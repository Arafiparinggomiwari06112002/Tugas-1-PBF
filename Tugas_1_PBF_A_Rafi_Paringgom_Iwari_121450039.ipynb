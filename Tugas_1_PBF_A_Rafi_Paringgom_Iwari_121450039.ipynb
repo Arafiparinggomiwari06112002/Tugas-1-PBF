{
  "nbformat": 4,
  "nbformat_minor": 0,
  "metadata": {
    "colab": {
      "provenance": []
    },
    "kernelspec": {
      "name": "python3",
      "display_name": "Python 3"
    },
    "language_info": {
      "name": "python"
    }
  },
  "cells": [
    {
      "cell_type": "markdown",
      "source": [
        "Tugas Pemrograman Berbasis  \\\\\n",
        "Nama : A Rafi Paringgom Iwari \\\\\n",
        "NIM : 121450039"
      ],
      "metadata": {
        "id": "HSIsOaloFbMb"
      }
    },
    {
      "cell_type": "markdown",
      "source": [
        "Membuat program Simple Password encryption, dengan ketentuan\n",
        "\n",
        "1. Input password bertipe string dengan batasan panjang password 100 karakter\n",
        "2. Setiap karakter dari string tersebut diubah menjadi ASCII value\n",
        "3. Kemudian setiap ASCII value tersebut dikembangkan menjadi 3 value dengan    dilakukan operasi berikut: \\\\\n",
        "\n",
        "A. Value pertama dibagi dengan integer 26 kemudian dibulatkan dan     dijumlahkan dengan 80 kemudian diubah kembali menjadi karakter \\\\\n",
        "B. Value kedua dihitung sisa bagi dengan 26 kemudian dijumlahkan dengan 80 kemudian diubah kembali menjadi karakter \\\\\n",
        "C. Value ketiga adalah karakter ‘+’ jika value pertama lebih besar dari value kedua, atau value ketiga adalah karakter ‘-’ jika value pertama tidak lebih besar dari value kedua\n",
        "\n",
        "4. Deretkan value pertama, kedua dan ketiga untuk setiap karakter\n",
        "dalam password tersebut sehingga didapatkan password dalam\n",
        "bentuk baru "
      ],
      "metadata": {
        "id": "HwQdW6FCI0K3"
      }
    },
    {
      "cell_type": "code",
      "execution_count": 50,
      "metadata": {
        "id": "07hoLdmgFUFA"
      },
      "outputs": [],
      "source": [
        "from functools import reduce"
      ]
    },
    {
      "cell_type": "code",
      "source": [
        "def enkripsi(password):\n",
        "    nilai_ascii = (ord(i) for i in password)\n",
        "    value_ascii= [(chr(value//26+80),chr(value%26+80),'+' if value//26>value%26 else '-' ) for value in nilai_ascii]\n",
        "    hasil_enkripsi = reduce(lambda acc, nil: acc+nil[0]+nil[1]+nil[2], value_ascii, '')\n",
        "    return hasil_enkripsi\n",
        "\n",
        "password=input(\"Silahkan masukkan password yang akan di-enkripsi: \").strip()[:100]\n",
        "hasil_enkripsi=enkripsi(password)\n",
        "print(\"hasil peng-enkripsian:\",hasil_enkripsi)"
      ],
      "metadata": {
        "colab": {
          "base_uri": "https://localhost:8080/"
        },
        "id": "iHHJqaXOF4wk",
        "outputId": "e7b30f02-17cd-485c-ea98-89f2fa45a18f"
      },
      "execution_count": 52,
      "outputs": [
        {
          "output_type": "stream",
          "name": "stdout",
          "text": [
            "Silahkan masukkan password yang akan di-enkripsi: GGgaming\n",
            "hasil peng-enkripsian: Rc-Rc-Si-Sc-TU-TQ+TV-Si-\n"
          ]
        }
      ]
    }
  ]
}