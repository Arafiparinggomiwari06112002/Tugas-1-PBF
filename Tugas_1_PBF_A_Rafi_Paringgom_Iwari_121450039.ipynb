{
  "nbformat": 4,
  "nbformat_minor": 0,
  "metadata": {
    "colab": {
      "provenance": []
    },
    "kernelspec": {
      "name": "python3",
      "display_name": "Python 3"
    },
    "language_info": {
      "name": "python"
    }
  },
  "cells": [
    {
      "cell_type": "markdown",
      "source": [
        "Tugas Pemrograman Berbasis  \\\\\n",
        "Nama : A Rafi Paringgom Iwari \\\\\n",
        "NIM : 121450039"
      ],
      "metadata": {
        "id": "HSIsOaloFbMb"
      }
    },
    {
      "cell_type": "code",
      "execution_count": 1,
      "metadata": {
        "id": "07hoLdmgFUFA"
      },
      "outputs": [],
      "source": [
        "from functools import reduce"
      ]
    },
    {
      "cell_type": "code",
      "source": [
        "def caesar_encrypt(password):\n",
        "    ascii_values = [ord(char) for char in password]\n",
        "    encrypt_values = [(chr((value//26)+80), chr(value%26+80), '+' if value//26 > value%26 else '-') for value in ascii_values]\n",
        "    encrypted_password = reduce(lambda acc, val: acc+val[0]+val[1]+val[2], encrypt_values, '')\n",
        "    return encrypted_password"
      ],
      "metadata": {
        "id": "iHHJqaXOF4wk"
      },
      "execution_count": 2,
      "outputs": []
    },
    {
      "cell_type": "code",
      "source": [
        "password = input(\"Silahkan masukkan password: \")"
      ],
      "metadata": {
        "colab": {
          "base_uri": "https://localhost:8080/"
        },
        "id": "PVzAlAQjGQc3",
        "outputId": "7d1ada59-9e51-4137-e233-49579020b465"
      },
      "execution_count": 3,
      "outputs": [
        {
          "name": "stdout",
          "output_type": "stream",
          "text": [
            "Silahkan masukkan password: GGgaming\n"
          ]
        }
      ]
    },
    {
      "cell_type": "code",
      "source": [
        "encrypted_password = caesar_encrypt(password)"
      ],
      "metadata": {
        "id": "tIjuzSOYGfai"
      },
      "execution_count": 4,
      "outputs": []
    },
    {
      "cell_type": "code",
      "source": [
        "print(\"Password: \", password)"
      ],
      "metadata": {
        "colab": {
          "base_uri": "https://localhost:8080/"
        },
        "id": "MTgqfBf0GmZ9",
        "outputId": "acb443bd-d65f-42fc-ac48-21bdd9980680"
      },
      "execution_count": 5,
      "outputs": [
        {
          "output_type": "stream",
          "name": "stdout",
          "text": [
            "Password:  GGgaming\n"
          ]
        }
      ]
    },
    {
      "cell_type": "code",
      "source": [
        "print(\"Password Terenkripsi: \", encrypted_password)"
      ],
      "metadata": {
        "colab": {
          "base_uri": "https://localhost:8080/"
        },
        "id": "QrvEd7puGncZ",
        "outputId": "12fe3429-a31c-4a55-b62a-3816eac27e26"
      },
      "execution_count": 6,
      "outputs": [
        {
          "output_type": "stream",
          "name": "stdout",
          "text": [
            "Password Terenkripsi:  Rc-Rc-Si-Sc-TU-TQ+TV-Si-\n"
          ]
        }
      ]
    }
  ]
}