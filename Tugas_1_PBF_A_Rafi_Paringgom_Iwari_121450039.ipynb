{
  "nbformat": 4,
  "nbformat_minor": 0,
  "metadata": {
    "colab": {
      "provenance": []
    },
    "kernelspec": {
      "name": "python3",
      "display_name": "Python 3"
    },
    "language_info": {
      "name": "python"
    }
  },
  "cells": [
    {
      "cell_type": "markdown",
      "source": [
        "Tugas Pemrograman Berbasis  \\\\\n",
        "Nama : A Rafi Paringgom Iwari \\\\\n",
        "NIM : 121450039"
      ],
      "metadata": {
        "id": "HSIsOaloFbMb"
      }
    },
    {
      "cell_type": "code",
      "execution_count": 4,
      "metadata": {
        "id": "07hoLdmgFUFA"
      },
      "outputs": [],
      "source": [
        "from functools import reduce"
      ]
    },
    {
      "cell_type": "code",
      "source": [
        "def caesar_encrypt(password):\n",
        "    ascii_values = [ord(char) for char in password]\n",
        "    encrypt_values = [(chr((value//26)+80), chr(value%26+80), '+' if value//26 > value%26 else '-') for value in ascii_values]\n",
        "    encrypted_password = reduce(lambda acc, val: acc+val[0]+val[1]+val[2], encrypt_values, '')\n",
        "    return encrypted_password"
      ],
      "metadata": {
        "id": "iHHJqaXOF4wk"
      },
      "execution_count": 5,
      "outputs": []
    },
    {
      "cell_type": "code",
      "source": [
        "password = input(\"Silahkan masukkan password: \")"
      ],
      "metadata": {
        "colab": {
          "base_uri": "https://localhost:8080/"
        },
        "id": "PVzAlAQjGQc3",
        "outputId": "22079c80-a3d1-4b1d-b258-d56f0a7f3d45"
      },
      "execution_count": 6,
      "outputs": [
        {
          "name": "stdout",
          "output_type": "stream",
          "text": [
            "Silahkan masukkan password: paladin gladys\n"
          ]
        }
      ]
    },
    {
      "cell_type": "code",
      "source": [
        "encrypted_password = caesar_encrypt(password)"
      ],
      "metadata": {
        "id": "tIjuzSOYGfai"
      },
      "execution_count": 7,
      "outputs": []
    },
    {
      "cell_type": "code",
      "source": [
        "print(\"Password: \", password)"
      ],
      "metadata": {
        "colab": {
          "base_uri": "https://localhost:8080/"
        },
        "id": "MTgqfBf0GmZ9",
        "outputId": "11e15e0e-19f0-44d3-b11b-a78b37ce2365"
      },
      "execution_count": 8,
      "outputs": [
        {
          "output_type": "stream",
          "name": "stdout",
          "text": [
            "Password:  paladin gladys\n"
          ]
        }
      ]
    },
    {
      "cell_type": "code",
      "source": [
        "print(\"Password Terenkripsi: \", encrypted_password)"
      ],
      "metadata": {
        "colab": {
          "base_uri": "https://localhost:8080/"
        },
        "id": "QrvEd7puGncZ",
        "outputId": "333d1d7d-b3d1-48d0-b46f-56a5a1e321af"
      },
      "execution_count": 9,
      "outputs": [
        {
          "output_type": "stream",
          "name": "stdout",
          "text": [
            "Password Terenkripsi:  TX-Sc-TT-Sc-Sf-TQ+TV-QV-Si-TT-Sc-Sf-Ta-T[-\n"
          ]
        }
      ]
    }
  ]
}